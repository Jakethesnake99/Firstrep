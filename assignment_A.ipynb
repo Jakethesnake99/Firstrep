{
 "cells": [
  {
   "cell_type": "markdown",
   "metadata": {},
   "source": [
    "# Assignment A"
   ]
  },
  {
   "attachments": {},
   "cell_type": "markdown",
   "metadata": {},
   "source": [
    "### Nested loops with print (3p)"
   ]
  },
  {
   "attachments": {},
   "cell_type": "markdown",
   "metadata": {},
   "source": [
    "Build a function `printLines(num, rowFreq, colFreq)` printing a pattern as shown below:\n",
    "- `num` specifies the number of rows and columns with dots/stars\n",
    "- the top left corner should contain a star\n",
    "- every `rowFreq` rows there should be a row of stars\n",
    "- every `colFreq` columns there should be a column of stars\n",
    "- other places within `num`*`num` square should be filled with dots\n",
    "\n",
    "Here is an example of `printLines(18, rowFreq=5, colFreq=8)`:\n",
    "```\n",
    "******************\n",
    "*.......*.......*.\n",
    "*.......*.......*.\n",
    "*.......*.......*.\n",
    "*.......*.......*.\n",
    "******************\n",
    "*.......*.......*.\n",
    "*.......*.......*.\n",
    "*.......*.......*.\n",
    "*.......*.......*.\n",
    "******************\n",
    "*.......*.......*.\n",
    "*.......*.......*.\n",
    "*.......*.......*.\n",
    "*.......*.......*.\n",
    "******************\n",
    "*.......*.......*.\n",
    "*.......*.......*.\n",
    "```"
   ]
  },
  {
   "cell_type": "code",
   "execution_count": 127,
   "metadata": {},
   "outputs": [
    {
     "name": "stdout",
     "output_type": "stream",
     "text": [
      "******************\n",
      "*.......*.......*.\n",
      "*.......*.......*.\n",
      "*.......*.......*.\n",
      "*.......*.......*.\n",
      "******************\n",
      "*.......*.......*.\n",
      "*.......*.......*.\n",
      "*.......*.......*.\n",
      "*.......*.......*.\n",
      "******************\n",
      "*.......*.......*.\n",
      "*.......*.......*.\n",
      "*.......*.......*.\n",
      "*.......*.......*.\n",
      "******************\n",
      "*.......*.......*.\n",
      "*.......*.......*.\n"
     ]
    }
   ],
   "source": [
    "def printLines(num,rowfreq,colfreq):\n",
    "    for r in range(num):\n",
    "        for c in range(num):\n",
    "            if c< max(range(num)):\n",
    "                if c % colfreq  == 0 or r % rowfreq == 0:\n",
    "                    print(\"*\",end=\"\")\n",
    "                else:\n",
    "                    print(\".\",end=\"\")\n",
    "            else:\n",
    "                if c % colfreq  == 0 or r % rowfreq == 0:\n",
    "                \tprint(\"*\")\n",
    "                else:\n",
    "                    print(\".\")\n",
    "printLines(18,5,8)"
   ]
  },
  {
   "cell_type": "code",
   "execution_count": 128,
   "metadata": {
    "tags": [
     "solution_nlwp"
    ]
   },
   "outputs": [
    {
     "name": "stdout",
     "output_type": "stream",
     "text": [
      "******************\n",
      "*.......*.......*.\n",
      "*.......*.......*.\n",
      "*.......*.......*.\n",
      "*.......*.......*.\n",
      "******************\n",
      "*.......*.......*.\n",
      "*.......*.......*.\n",
      "*.......*.......*.\n",
      "*.......*.......*.\n",
      "******************\n",
      "*.......*.......*.\n",
      "*.......*.......*.\n",
      "*.......*.......*.\n",
      "*.......*.......*.\n",
      "******************\n",
      "*.......*.......*.\n",
      "*.......*.......*.\n"
     ]
    }
   ],
   "source": [
    "# ----- SOLUTION START -----\n",
    "def printLines(num,rowfreq,colfreq):\n",
    "    for r in range(num):\n",
    "        for c in range(num):\n",
    "            if c< max(range(num)):\n",
    "                if c % colfreq  == 0 or r % rowfreq == 0:\n",
    "                    print(\"*\",end=\"\")\n",
    "                else:\n",
    "                    print(\".\",end=\"\")\n",
    "            else:\n",
    "                if c % colfreq  == 0 or r % rowfreq == 0:\n",
    "                \tprint(\"*\")\n",
    "                else:\n",
    "                    print(\".\")\n",
    "printLines(18,5,8)        \n",
    "# ----- SOLUTION END -----\n",
    "\n",
    "#printLines(18, rowFreq=5, colFreq=8)"
   ]
  },
  {
   "attachments": {},
   "cell_type": "markdown",
   "metadata": {},
   "source": [
    "### Generating random user names (10p)"
   ]
  },
  {
   "attachments": {},
   "cell_type": "markdown",
   "metadata": {},
   "source": [
    "Write a function generating random names of people:\n",
    "- The name and the arguments of the function: `genRandomNames( num, firstNamesStr, lastNamesStr )`:\n",
    "    - `num`: An integer number giving the number of names to generate.\n",
    "    - `firstNamesStr`: A single `str` text with common first names to be chosen from. The names in the string are separated by spaces. See the example below.\n",
    "    - `lastNamesStr` - As above: a string with last names separated by spaces.\n",
    "- The function should return a list with `num` elements. Each element should be a tuple of names (first,last).\n",
    "- Duplicates are not allowed (in the returned list there can be no two entries with the same first and last names). If `num` is too large (i.e. so many pairs cannot be constructed from the provided first and last names) the function should raise an exception.\n",
    "- The returned list should be randomly chosen and ordered. In general, subsequent calls to the function should generate different results.\n",
    "\n",
    "*Hint:* `from random import sample`  \n",
    "*Hint:* `str.split`  \n",
    "*Hint:* E.g. 6:37AM is 6 hours and 37 minutes after midnight but also 397 minutes after midnight. Integer/rest division."
   ]
  },
  {
   "cell_type": "code",
   "execution_count": 146,
   "metadata": {
    "tags": [
     "solution_grun"
    ]
   },
   "outputs": [
    {
     "data": {
      "text/plain": [
       "[('Susanna', 'Vieira'),\n",
       " ('Augusta', 'Bos'),\n",
       " ('Jade', 'Meyer'),\n",
       " ('Zygfryd', 'Dijkstra'),\n",
       " ('Zygfryd', 'Brzęczyszczykiewicz'),\n",
       " ('Grzegorz', 'Dąbrowski'),\n",
       " ('Grzegorz', 'Cruz'),\n",
       " ('Kyla', 'Bos'),\n",
       " ('Zygfryd', 'Visser'),\n",
       " ('Mona', 'Cruz'),\n",
       " ('Mona', 'Rodrigues'),\n",
       " ('Josephus', 'Nowak'),\n",
       " ('Zygfryd', 'Jansen'),\n",
       " ('Augusta', 'Dekker'),\n",
       " ('Franka', 'Lewandowski'),\n",
       " ('Estera', 'Alves'),\n",
       " ('Noah', 'Sousa'),\n",
       " ('Ursula', 'Hoffmann'),\n",
       " ('Roseann', 'Hoffmann'),\n",
       " ('Susanna', 'Rodrigues'),\n",
       " ('Konstanty', 'Smit'),\n",
       " ('Kyla', 'Alves'),\n",
       " ('Konstanty', 'Dąbrowski'),\n",
       " ('Estera', 'Smit'),\n",
       " ('Ursula', 'Dąbrowski'),\n",
       " ('Grzegorz', 'Jansen'),\n",
       " ('Aric', 'Wójcik'),\n",
       " ('Meintje', 'Schmidt'),\n",
       " ('Josephus', 'Brzęczyszczykiewicz'),\n",
       " ('Estera', 'Meyer'),\n",
       " ('Kirrily', 'Dijkstra'),\n",
       " ('Susanna', 'Brzęczyszczykiewicz'),\n",
       " ('Zygfryd', 'Alves'),\n",
       " ('Meindert', 'Smit'),\n",
       " ('Grant', 'Smit'),\n",
       " ('Zygfryd', 'Lewandowski'),\n",
       " ('Kylie', 'Sousa'),\n",
       " ('Meintje', 'Brzęczyszczykiewicz'),\n",
       " ('Kirrily', 'Vieira'),\n",
       " ('Susanna', 'Schmidt'),\n",
       " ('Wanda', 'Mazur'),\n",
       " ('Bishop', 'Vieira'),\n",
       " ('Kylie', 'Mazur'),\n",
       " ('Wanda', 'Cruz'),\n",
       " ('Lyda', 'Dijkstra'),\n",
       " ('Bishop', 'Dąbrowski'),\n",
       " ('Aric', 'Dąbrowski'),\n",
       " ('Grant', 'Müller'),\n",
       " ('Kirrily', 'Visser'),\n",
       " ('Noah', 'Dąbrowski')]"
      ]
     },
     "execution_count": 146,
     "metadata": {},
     "output_type": "execute_result"
    }
   ],
   "source": [
    "# ----- SOLUTION START -----\n",
    "from random import sample\n",
    "import itertools\n",
    "import random\n",
    "\n",
    "firstNamesStr = \"Meintje Franka Meindert Grant Wanda Bishop Susanna Josephus Grzegorz Ursula Augusta Roseann Jade Kyla Kylie Konstanty Lyda Aric Mona Coenraad Kirrily Noah Estera Ward Zygfryd Dagmara\"\n",
    "lastNamesStr = \"Jansen Bakker Visser Smit Bos Dekker Dijkstra Nowak Wójcik Mazur Lewandowski Dąbrowski Brzęczyszczykiewicz Żółciński Meyer Schmidt Müller Becker Hoffmann Rodrigues Sousa Alves Vieira Cruz\"\n",
    "\n",
    "def genRandomNames(num, firstname, lastname):\n",
    "    firstNamesplit=firstNamesStr.split(\" \")\n",
    "    lastNamessplit=lastNamesStr.split(\" \") \n",
    "    if num>len(firstNamesplit)*len(lastNamessplit):\n",
    "        raise Exception(\"to high of a number and to few names =(\")\n",
    "    else:\n",
    "        fakename=sample(set(itertools.product(firstNamesplit,lastNamessplit)),num)\n",
    "        return(fakename)\n",
    "    #print(fakenames)\n",
    "\n",
    "genRandomNames(50, firstNamesStr, lastNamesStr)\n",
    "# ----- SOLUTION END -----\n",
    "\n",
    "#firstNamesStr = \"Meintje Franka Meindert Grant Wanda Bishop Susanna Josephus Grzegorz Ursula Augusta Roseann Jade Kyla Kylie Konstanty Lyda Aric Mona Coenraad Kirrily Noah Estera Ward Zygfryd Dagmara\"\n",
    "#lastNamesStr = \"Jansen Bakker Visser Smit Bos Dekker Dijkstra Nowak Wójcik Mazur Lewandowski Dąbrowski Brzęczyszczykiewicz Żółciński Meyer Schmidt Müller Becker Hoffmann Rodrigues Sousa Alves Vieira Cruz\"\n",
    "#genRandomNames( 5, firstNamesStr, lastNamesStr ) # example of an expected result:\n",
    "                                                  # [('Kirrily', 'Cruz'),\n",
    "                                                  #  ('Zygfryd', 'Alves'),\n",
    "                                                  #  ('Estera', 'Bakker'),\n",
    "                                                  #  ('Lyda', 'Cruz'),\n",
    "                                                  #  ('Grzegorz', 'Mazur')]"
   ]
  },
  {
   "attachments": {},
   "cell_type": "markdown",
   "metadata": {},
   "source": [
    "### Sorting by a user-defined function (6p)"
   ]
  },
  {
   "attachments": {},
   "cell_type": "markdown",
   "metadata": {},
   "source": [
    "Write a function `sortByDist( ps )`:\n",
    "- The argument `ps` is a list of two-element tuples with (x,y) coordinates of points on a two dimensional plane.  \n",
    "- The list `ps` should become sorted with increasing distance to the origin.  \n",
    "- The function should return nothing.\n",
    "- The function should have a *docstring* with a short description of what it does.\n",
    "\n",
    "*Hint:* understand all arguments of the `list.sort(...)` method."
   ]
  },
  {
   "cell_type": "code",
   "execution_count": 134,
   "metadata": {
    "tags": [
     "solution_sudf"
    ]
   },
   "outputs": [
    {
     "name": "stdout",
     "output_type": "stream",
     "text": [
      "[(0, 0), (1, -1), (0, 2), (2, 0), (3, 1), (-4, -1)]\n"
     ]
    }
   ],
   "source": [
    "# ----- SOLUTION START -----\n",
    "examplePs = [ (1,-1), (2,0), (3,1), (-4,-1), (0,2), (0,0) ]\n",
    "def sortByDist(ps):\n",
    "                    ps2=[[val ** 2  for val in tup] for tup in ps]\n",
    "                    ps3= [sum(i) for i in ps2]\n",
    "                    ps=[ps for ps3, ps in sorted(zip(ps3,ps))]\n",
    "                    \n",
    "                    print(ps)\n",
    "                    #ps.sort(key=ps2, reverse=False)\n",
    "sortByDist(examplePs)\n",
    "# ----- SOLUTION END -----\n",
    "# sortByDist( examplePs )     # expected:\n",
    "                  # [(0, 0), (1, -1), (2, 0), (0, 2), (3, 1), (-4, -1)]"
   ]
  },
  {
   "attachments": {},
   "cell_type": "markdown",
   "metadata": {},
   "source": [
    "### A graph and degrees of vertices (6p)"
   ]
  },
  {
   "attachments": {},
   "cell_type": "markdown",
   "metadata": {},
   "source": [
    "The Wikipedia page [Graph (discrete mathematics)](https://en.wikipedia.org/wiki/Graph_(discrete_mathematics)) provides an example illustration of *a (undirected) graph with six vertices and seven edges*.  \n",
    "The *degree* of a vertex is a number of edges connected to the vertex (a vertex with a loop, i.e. with an edge to itself, contributes with 2 edges).\n",
    "\n",
    "Create two objects to represent the Wikipedia graph:\n",
    "- `vs` should be a `set` of vertices (i.e. identifiers of the vertices: `1`, `2`, `...`);\n",
    "- `es` should be a `set` of edges (two-element tuples with names of connected vertices).\n",
    "\n",
    "Modify manually `vs` and `es` as follows:\n",
    "- add a vertex `10` which has an edge to itself;\n",
    "- add a vertex `20` without any edges.\n",
    "\n",
    "Finally, write a function `verticesDegrees( vs, es )` to calculate degrees of all vertices in the graph.  \n",
    "The function should return a dictionary mapping vertex identifiers to their degrees.  \n",
    "\n",
    "*Note:* `vs` should be a `set` because each vertex must have a unique identifier.  \n",
    "*Note:* `es` should be a `set` because in undirected graph there can be only one edge between two vertices. This is still not enough to avoid duplicated edges - consider tuples `(3,4)` vs. `(4,3)`."
   ]
  },
  {
   "cell_type": "code",
   "execution_count": 67,
   "metadata": {
    "tags": [
     "solution_gdv"
    ]
   },
   "outputs": [
    {
     "data": {
      "text/plain": [
       "{1: 2, 2: 3, 3: 2, 4: 3, 5: 3, 6: 1, 10: 2, 20: 0}"
      ]
     },
     "execution_count": 67,
     "metadata": {},
     "output_type": "execute_result"
    }
   ],
   "source": [
    "# ----- SOLUTION START -----\n",
    "from collections import defaultdict\n",
    "vs=[1,2,3,4,5,6,10,20]\n",
    "es=[(1,2),(1,5),(5,2),(5,4),(2,3),(3,4),(4,6),(10,10)]\n",
    "def verticesDegrees(vs, es ):\n",
    "    maindict={}\n",
    "    for i in vs:\n",
    "        maindict[i]= sum(tup.count(i) for tup in es)\n",
    "    return(maindict)\n",
    "\n",
    "    \n",
    "# ----- SOLUTION END -----\n",
    "verticesDegrees(vs,es)\n",
    "# verticesDegrees( vs, es )    # expected dictionary for the manually modified graph:\n",
    "                               # {1: 2, 2: 3, 3: 2, 4: 3, 5: 3, 6: 1, 10: 2, 20: 0}"
   ]
  },
  {
   "attachments": {},
   "cell_type": "markdown",
   "metadata": {},
   "source": [
    "### Drawing a graph with graphviz dot online tool (3p)"
   ]
  },
  {
   "attachments": {},
   "cell_type": "markdown",
   "metadata": {},
   "source": [
    "[Graphviz](https://graphviz.org/about/) is a software package for automatic drawing of graphs.  \n",
    "It defines the [DOT Language](https://graphviz.org/doc/info/lang.html) which allows to describe a graph to be drawn.  \n",
    "The graph from the previous task can be described in DOT as in the example below:\n",
    "\n",
    "- Single numbers define the vertices of the graph.\n",
    "- Two minus signs (`--`) define an edge.\n",
    "\n",
    "The Graphviz online tool (https://dreampuf.github.io/GraphvizOnline/) may be used to check whether you generated a correct DOT code.  \n",
    "[See the example in the online tool](https://dreampuf.github.io/GraphvizOnline/#graph%20%7B%0A%20%201%0A%20%202%0A%20%203%0A%20%204%0A%20%205%0A%20%206%0A%20%2010%0A%20%2020%0A%20%201%20--%202%0A%20%201%20--%205%0A%20%202%20--%203%0A%20%202%20--%205%0A%20%203%20--%204%0A%20%204%20--%205%0A%20%204%20--%206%0A%20%2010%20--%2010%0A%7D).\n",
    "\n",
    "Write a function `graphvizDotPrint( vs, es )` with the arguments as in the previous task.  \n",
    "The function should print the DOT language description of any graph provided by the `vs` and `es` arguments.\n",
    "\n",
    "```{dot}\n",
    "graph {\n",
    "  1\n",
    "  2\n",
    "  3\n",
    "  4\n",
    "  5\n",
    "  6\n",
    "  10\n",
    "  20\n",
    "  1 -- 2\n",
    "  1 -- 5\n",
    "  2 -- 3\n",
    "  2 -- 5\n",
    "  3 -- 4\n",
    "  4 -- 5\n",
    "  4 -- 6\n",
    "  10 -- 10\n",
    "}\n",
    "```"
   ]
  },
  {
   "cell_type": "code",
   "execution_count": 123,
   "metadata": {},
   "outputs": [
    {
     "name": "stdout",
     "output_type": "stream",
     "text": [
      "1\n",
      "2\n",
      "3\n",
      "4\n",
      "5\n",
      "6\n",
      "10\n",
      "20\n",
      "1 -- 2\n",
      "1 -- 5\n",
      "5 -- 2\n",
      "5 -- 4\n",
      "2 -- 3\n",
      "3 -- 4\n",
      "4 -- 6\n",
      "10 -- 10\n"
     ]
    }
   ],
   "source": [
    "# ----- SOLUTION START -----\n",
    "vs=[1,2,3,4,5,6,10,20]\n",
    "es=[(1,2),(1,5),(5,2),(5,4),(2,3),(3,4),(4,6),(10,10)]\n",
    "def graphvizDotPrint(vs,es):\n",
    "    setlist=set(vs)\n",
    "    setlist=list(setlist)\n",
    "    for i in vs:\n",
    "        print(i)\n",
    "    for i in (es):\n",
    "        print(f\"{i[0]} -- {i[1]}\")\n",
    "# ----- SOLUTION END -----\n",
    "graphvizDotPrint( vs, es )  # this should print a piece of DOT code\n",
    "                              # graph {\n",
    "                              #    ...\n",
    "                              # }"
   ]
  }
 ],
 "metadata": {
  "kernelspec": {
   "display_name": "base",
   "language": "python",
   "name": "python3"
  },
  "language_info": {
   "codemirror_mode": {
    "name": "ipython",
    "version": 3
   },
   "file_extension": ".py",
   "mimetype": "text/x-python",
   "name": "python",
   "nbconvert_exporter": "python",
   "pygments_lexer": "ipython3",
   "version": "3.7.4"
  },
  "orig_nbformat": 4,
  "vscode": {
   "interpreter": {
    "hash": "e7a7f8088ba89c0714a1a51c0292f779baaa5f1766ab081a8d8e70a5b578f7c1"
   }
  }
 },
 "nbformat": 4,
 "nbformat_minor": 2
}
