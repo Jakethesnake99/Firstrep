{
 "cells": [
  {
   "cell_type": "code",
   "execution_count": null,
   "metadata": {},
   "outputs": [],
   "source": []
  }
 ],
 "metadata": {
  "kernelspec": {
   "display_name": "Python 3",
   "language": "python",
   "name": "python3"
  },
  "language_info": {
   "name": "python",
   "version": "3.8.1"
  },
  "orig_nbformat": 4,
  "vscode": {
   "interpreter": {
    "hash": "35e983015cdb9a99c9c6522387b640becf2e57fe1364a9c980f153081040a926"
   }
  }
 },
 "nbformat": 4,
 "nbformat_minor": 2
}
